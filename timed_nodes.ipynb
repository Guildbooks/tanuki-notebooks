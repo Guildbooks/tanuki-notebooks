{
 "cells": [
  {
   "cell_type": "code",
   "execution_count": 1,
   "metadata": {},
   "outputs": [
    {
     "name": "stdout",
     "output_type": "stream",
     "text": [
      "Current Eorzean time (raw): 10:52\n",
      "\n",
      "Active nodes (with time difference in minutes):\n",
      "       ID   Time                     Item Name                 Location  \\\n",
      "0   27833  12:00                   Broad Beans                  Il Mheg   \n",
      "1   27828  12:00                  Mist Spinach   The Rak'tika Greatwood   \n",
      "14  33000  12:00           Rarefied Pine Resin                   Yanxia   \n",
      "13  33001  12:00             Rarefied Pine Log                   Yanxia   \n",
      "12  33009  12:00          Rarefied Urunday Log                The Peaks   \n",
      "25  12943  12:00           Dravanian Mistletoe       The Churning Mists   \n",
      "26  12899  12:00                       Porcini       The Churning Mists   \n",
      "23  32995  12:00        Rarefied Dark Chestnut  The Dravanian Forelands   \n",
      "24  32996  12:00  Rarefied Dark Chestnut Resin  The Dravanian Forelands   \n",
      "72  27731  12:00                      Raw Onyx              The Tempest   \n",
      "71  27729  12:00                  Raw Triplite               Amh Araeng   \n",
      "84  19907  12:00       Ala Mhigan Salt Crystal                The Lochs   \n",
      "85  19970  12:00               Raw Star Spinel             The Ruby Sea   \n",
      "96  12538  12:00                Adamantite Ore                 Azys Lla   \n",
      "\n",
      "   Coordinates  time_diff  \n",
      "0    (x24,y36)         68  \n",
      "1    (x34,y21)         68  \n",
      "14   (x19,y14)         68  \n",
      "13   (x19,y14)         68  \n",
      "12    (x31,y7)         68  \n",
      "25    (x24,y6)         68  \n",
      "26    (x24,y6)         68  \n",
      "23   (x16,y36)         68  \n",
      "24   (x16,y36)         68  \n",
      "72   (x16,y21)         68  \n",
      "71   (x20,y29)         68  \n",
      "84   (x21,y29)         68  \n",
      "85    (x15,y5)         68  \n",
      "96    (x24,y6)         68  \n"
     ]
    }
   ],
   "source": [
    "import timed_nodes as tn\n",
    "import os\n",
    "\n",
    "timed_nodes_dir = \"data/timed_nodes/\"\n",
    "\n",
    "input_file = os.path.join(timed_nodes_dir, \"unspoiled_nodes.txt\")\n",
    "output_file = os.path.join(timed_nodes_dir, \"cleaned_nodes.csv\")\n",
    "tn.clean_unspoiled_data(input_file, output_file)\n",
    "\n",
    "input_file = output_file\n",
    "output_file = os.path.join(timed_nodes_dir, \"final_nodes_with_ids.csv\")\n",
    "tn.assign_ids(input_file, output_file)\n",
    "\n",
    "input_file = output_file\n",
    "output_file = os.path.join(timed_nodes_dir, \"final_nodes_with_ids_sorted.csv\")\n",
    "tn.sort_for_current_time(input_file, output_file)"
   ]
  }
 ],
 "metadata": {
  "kernelspec": {
   "display_name": "Python 3",
   "language": "python",
   "name": "python3"
  },
  "language_info": {
   "codemirror_mode": {
    "name": "ipython",
    "version": 3
   },
   "file_extension": ".py",
   "mimetype": "text/x-python",
   "name": "python",
   "nbconvert_exporter": "python",
   "pygments_lexer": "ipython3",
   "version": "3.13.3"
  }
 },
 "nbformat": 4,
 "nbformat_minor": 2
}
