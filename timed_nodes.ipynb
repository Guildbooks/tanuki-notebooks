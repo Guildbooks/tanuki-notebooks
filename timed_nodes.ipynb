{
 "cells": [
  {
   "cell_type": "code",
   "execution_count": null,
   "metadata": {},
   "outputs": [
    {
     "name": "stdout",
     "output_type": "stream",
     "text": [
      "Current Eorzean time (raw): 10:34\n",
      "\n",
      "Active nodes (with time difference in minutes):\n",
      "        ID   Time                      Item Name                    Location  \\\n",
      "10   33002  10:00           Rarefied Pixie Apple                     Il Mheg   \n",
      "11   33004  10:00     Rarefied Miracle Apple Log                     Il Mheg   \n",
      "9    27836  10:00                     Peppermint                    Lakeland   \n",
      "22   19860  10:00                   Bamboo Shoot                      Yanxia   \n",
      "35   13767  10:00             Pearl Sprout Seeds  Coerthas Western Highlands   \n",
      "36   13768  10:00             Coerthan Tea Seeds  Coerthas Western Highlands   \n",
      "38   12882  10:00            Coerthan Tea Leaves  Coerthas Western Highlands   \n",
      "41   32992  10:00     Rarefied Dark Chestnut Sap     The Dravanian Forelands   \n",
      "39   32994  10:00  Rarefied Dark Chestnut Branch     The Dravanian Forelands   \n",
      "40   32993  10:00     Rarefied Dark Chestnut Log     The Dravanian Forelands   \n",
      "61    9518  10:00                    Cypress Log              Central Shroud   \n",
      "37   12877  10:00                  Pearl Sprouts  Coerthas Western Highlands   \n",
      "34   12884  10:00                         Chives  Coerthas Western Highlands   \n",
      "103   5159  10:00                     Red Quartz           The Sea of Clouds   \n",
      "\n",
      "       Coordinates  time_diff  \n",
      "10        (x4,y23)        -34  \n",
      "11        (x4,y23)        -34  \n",
      "9        (x26,y20)        -34  \n",
      "22       (x28,y25)        -34  \n",
      "35       (x31,y20)        -34  \n",
      "36       (x31,y20)        -34  \n",
      "38       (x31,y20)        -34  \n",
      "41       (x29,y30)        -34  \n",
      "39       (x29,y30)        -34  \n",
      "40       (x29,y30)        -34  \n",
      "61   (x24.6,y28.5)        -34  \n",
      "37       (x31,y20)        -34  \n",
      "34       (x31,y20)        -34  \n",
      "103        (x8,y8)        -34  \n"
     ]
    }
   ],
   "source": [
    "import timed_nodes as tn\n",
    "import os\n",
    "\n",
    "timed_nodes_dir = \"data/timed_nodes/\"\n",
    "\n",
    "input_file = os.path.join(timed_nodes_dir, \"unspoiled_nodes.txt\")\n",
    "output_file = os.path.join(timed_nodes_dir, \"cleaned_nodes.csv\")\n",
    "tn.clean_unspoiled_data(input_file, output_file)\n",
    "\n",
    "input_file = output_file\n",
    "output_file = os.path.join(timed_nodes_dir, \"final_nodes_with_ids.csv\")\n",
    "tn.assign_ids(input_file, output_file)\n",
    "\n",
    "input_file = output_file\n",
    "output_file = os.path.join(timed_nodes_dir, \"final_nodes_with_ids_sorted.csv\")\n",
    "tn.sort_for_current_time(input_file, output_file)"
   ]
  }
 ],
 "metadata": {
  "kernelspec": {
   "display_name": "Python 3",
   "language": "python",
   "name": "python3"
  },
  "language_info": {
   "codemirror_mode": {
    "name": "ipython",
    "version": 3
   },
   "file_extension": ".py",
   "mimetype": "text/x-python",
   "name": "python",
   "nbconvert_exporter": "python",
   "pygments_lexer": "ipython3",
   "version": "3.13.3"
  }
 },
 "nbformat": 4,
 "nbformat_minor": 2
}
