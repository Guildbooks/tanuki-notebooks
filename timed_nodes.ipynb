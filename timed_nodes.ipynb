{
 "cells": [
  {
   "cell_type": "code",
   "execution_count": 1,
   "metadata": {},
   "outputs": [
    {
     "name": "stdout",
     "output_type": "stream",
     "text": [
      "Current Eorzean time (raw): 05:58\n",
      "\n",
      "Active nodes (with time difference in minutes):\n",
      "        ID   Time                 Item Name                Location  \\\n",
      "6    27835  06:00                 Lemonette                Kholusia   \n",
      "20   19918  06:00            Hallowed Basil               The Peaks   \n",
      "31   12889  06:00             Heavens Lemon       The Sea of Clouds   \n",
      "32   12944  06:00      Abalathian Mistletoe       The Sea of Clouds   \n",
      "51    8031  06:00              Redolent Log          Central Shroud   \n",
      "50    7594  06:00  Young Cieldalaes Spinach         Lower La Noscea   \n",
      "81   27730  06:00              Raw Petalite                Lakeland   \n",
      "80   27727  06:00              Raw Diaspore                 Il Mheg   \n",
      "88   19972  06:00         Raw Imperial Jade                  Yanxia   \n",
      "115   7610  06:00               Umbral Rock            South Shroud   \n",
      "90   32979  06:00  Rarefied Silvergrace Ore             Azim Steppe   \n",
      "89   32978  06:00      Rarefied Raw Azurite             Azim Steppe   \n",
      "79   32981  06:00     Rarefied Raw Lazurite  The Rak'tika Greatwood   \n",
      "53    5365  07:00              Bamboo Stick         Upper La Noscea   \n",
      "\n",
      "    Coordinates  time_diff  \n",
      "6     (x20,y27)          2  \n",
      "20    (x23,y16)          2  \n",
      "31    (x35,y23)          2  \n",
      "32    (x35,y23)          2  \n",
      "51    (x30,y19)          2  \n",
      "50    (x32,y11)          2  \n",
      "81    (x29,y33)          2  \n",
      "80    (x26,y13)          2  \n",
      "88     (x29,y9)          2  \n",
      "115   (x16,y31)          2  \n",
      "90    (x36,y26)          2  \n",
      "89    (x36,y26)          2  \n",
      "79    (x16,y18)          2  \n",
      "53    (x28,y25)         62  \n"
     ]
    }
   ],
   "source": [
    "import timed_nodes as tn\n",
    "import os\n",
    "\n",
    "timed_nodes_dir = \"data/timed_nodes/\"\n",
    "\n",
    "input_file = os.path.join(timed_nodes_dir, \"unspoiled_nodes.txt\")\n",
    "output_file = os.path.join(timed_nodes_dir, \"cleaned_nodes.csv\")\n",
    "tn.clean_unspoiled_data(input_file, output_file)\n",
    "\n",
    "input_file = output_file\n",
    "output_file = os.path.join(timed_nodes_dir, \"final_nodes_with_ids.csv\")\n",
    "tn.assign_ids(input_file, output_file)\n",
    "\n",
    "input_file = output_file\n",
    "output_file = os.path.join(timed_nodes_dir, \"final_nodes_with_ids_sorted.csv\")\n",
    "tn.sort_for_current_time(input_file, output_file)"
   ]
  }
 ],
 "metadata": {
  "kernelspec": {
   "display_name": "Python 3",
   "language": "python",
   "name": "python3"
  },
  "language_info": {
   "codemirror_mode": {
    "name": "ipython",
    "version": 3
   },
   "file_extension": ".py",
   "mimetype": "text/x-python",
   "name": "python",
   "nbconvert_exporter": "python",
   "pygments_lexer": "ipython3",
   "version": "3.13.3"
  }
 },
 "nbformat": 4,
 "nbformat_minor": 2
}
